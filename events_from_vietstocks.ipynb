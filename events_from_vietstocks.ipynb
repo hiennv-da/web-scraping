{
 "cells": [
  {
   "cell_type": "raw",
   "id": "478096aa-4d44-4213-bbd0-4ad1d216ed2c",
   "metadata": {},
   "source": [
    "Automatically download and install chromedriver\n",
    "!pip install chromedriver-autoinstaller "
   ]
  },
  {
   "cell_type": "code",
   "execution_count": 1,
   "id": "0bbae956-059a-4507-80d7-f776152a8e87",
   "metadata": {},
   "outputs": [
    {
     "data": {
      "text/plain": [
       "'C:\\\\Users\\\\PC\\\\AppData\\\\Local\\\\Programs\\\\Python\\\\Python310\\\\lib\\\\site-packages\\\\chromedriver_autoinstaller\\\\108\\\\chromedriver.exe'"
      ]
     },
     "execution_count": 1,
     "metadata": {},
     "output_type": "execute_result"
    }
   ],
   "source": [
    "from selenium import webdriver\n",
    "import pandas as pd\n",
    "import requests\n",
    "from bs4 import BeautifulSoup\n",
    "import time\n",
    "import chromedriver_autoinstaller\n",
    "chromedriver_autoinstaller.install()"
   ]
  },
  {
   "cell_type": "code",
   "execution_count": 3,
   "id": "699dbec3-5fb0-4bd2-8325-5f05fa550dcc",
   "metadata": {},
   "outputs": [
    {
     "name": "stdout",
     "output_type": "stream",
     "text": [
      "page: 1\n",
      "page: 2\n"
     ]
    },
    {
     "data": {
      "text/html": [
       "<div>\n",
       "<style scoped>\n",
       "    .dataframe tbody tr th:only-of-type {\n",
       "        vertical-align: middle;\n",
       "    }\n",
       "\n",
       "    .dataframe tbody tr th {\n",
       "        vertical-align: top;\n",
       "    }\n",
       "\n",
       "    .dataframe thead th {\n",
       "        text-align: right;\n",
       "    }\n",
       "</style>\n",
       "<table border=\"1\" class=\"dataframe\">\n",
       "  <thead>\n",
       "    <tr style=\"text-align: right;\">\n",
       "      <th></th>\n",
       "      <th>STT</th>\n",
       "      <th>Mã CK</th>\n",
       "      <th>Sàn</th>\n",
       "      <th>Ngày GDKHQ▼</th>\n",
       "      <th>Ngày ĐKCC</th>\n",
       "      <th>Ngày thực hiện</th>\n",
       "      <th>Tỷ lệ</th>\n",
       "      <th>Nội dung sự kiện</th>\n",
       "    </tr>\n",
       "  </thead>\n",
       "  <tbody>\n",
       "    <tr>\n",
       "      <th>0</th>\n",
       "      <td>1</td>\n",
       "      <td>BFC</td>\n",
       "      <td>HOSE</td>\n",
       "      <td>17/01/2023</td>\n",
       "      <td>18/01/2023</td>\n",
       "      <td>10/02/2023</td>\n",
       "      <td>6%</td>\n",
       "      <td>Trả cổ tức đợt 1/2022 bằng tiền, 600 đồng/CP</td>\n",
       "    </tr>\n",
       "    <tr>\n",
       "      <th>1</th>\n",
       "      <td>2</td>\n",
       "      <td>DRC</td>\n",
       "      <td>HOSE</td>\n",
       "      <td>11/01/2023</td>\n",
       "      <td>12/01/2023</td>\n",
       "      <td>10/02/2023</td>\n",
       "      <td>5%</td>\n",
       "      <td>Trả cổ tức năm 2022 bằng tiền, 500 đồng/CP</td>\n",
       "    </tr>\n",
       "    <tr>\n",
       "      <th>2</th>\n",
       "      <td>3</td>\n",
       "      <td>FOX</td>\n",
       "      <td>UPCoM</td>\n",
       "      <td>05/01/2023</td>\n",
       "      <td>06/01/2023</td>\n",
       "      <td>17/02/2023</td>\n",
       "      <td>10%</td>\n",
       "      <td>Trả cổ tức đợt 1/2022 bằng tiền, 1,000 đồng/CP</td>\n",
       "    </tr>\n",
       "    <tr>\n",
       "      <th>3</th>\n",
       "      <td>4</td>\n",
       "      <td>ND2</td>\n",
       "      <td>UPCoM</td>\n",
       "      <td>04/01/2023</td>\n",
       "      <td>05/01/2023</td>\n",
       "      <td>16/01/2023</td>\n",
       "      <td>10%</td>\n",
       "      <td>Trả cổ tức năm 2022 bằng tiền, 1,000 đồng/CP</td>\n",
       "    </tr>\n",
       "    <tr>\n",
       "      <th>4</th>\n",
       "      <td>5</td>\n",
       "      <td>PAI</td>\n",
       "      <td>UPCoM</td>\n",
       "      <td>29/12/2022</td>\n",
       "      <td>30/12/2022</td>\n",
       "      <td>06/02/2023</td>\n",
       "      <td>8%</td>\n",
       "      <td>Trả cổ tức năm 2021 bằng tiền, 800 đồng/CP</td>\n",
       "    </tr>\n",
       "  </tbody>\n",
       "</table>\n",
       "</div>"
      ],
      "text/plain": [
       "   STT Mã CK    Sàn Ngày GDKHQ▼   Ngày ĐKCC Ngày thực hiện Tỷ lệ  \\\n",
       "0    1   BFC   HOSE  17/01/2023  18/01/2023     10/02/2023    6%   \n",
       "1    2   DRC   HOSE  11/01/2023  12/01/2023     10/02/2023    5%   \n",
       "2    3   FOX  UPCoM  05/01/2023  06/01/2023     17/02/2023   10%   \n",
       "3    4   ND2  UPCoM  04/01/2023  05/01/2023     16/01/2023   10%   \n",
       "4    5   PAI  UPCoM  29/12/2022  30/12/2022     06/02/2023    8%   \n",
       "\n",
       "                                 Nội dung sự kiện  \n",
       "0    Trả cổ tức đợt 1/2022 bằng tiền, 600 đồng/CP  \n",
       "1      Trả cổ tức năm 2022 bằng tiền, 500 đồng/CP  \n",
       "2  Trả cổ tức đợt 1/2022 bằng tiền, 1,000 đồng/CP  \n",
       "3    Trả cổ tức năm 2022 bằng tiền, 1,000 đồng/CP  \n",
       "4      Trả cổ tức năm 2021 bằng tiền, 800 đồng/CP  "
      ]
     },
     "execution_count": 3,
     "metadata": {},
     "output_type": "execute_result"
    }
   ],
   "source": [
    "web = webdriver.Chrome()\n",
    "df = pd.DataFrame()\n",
    "except_page = []\n",
    "for page in range(1, 2+1):\n",
    "    try:\n",
    "        print(f\"page: {page}\")\n",
    "        url = f\"https://finance.vietstock.vn/lich-su-kien.htm?page={page}&tab=1&group=13&from=2019-01-01&to=2023-01-23&exchange=-1\"\n",
    "        web.get(url)\n",
    "        dfs = pd.read_html(web.page_source)[1]\n",
    "        if len(dfs) <= 0:\n",
    "            break\n",
    "            web.quit()\n",
    "        df = pd.concat([df, dfs], axis=0)\n",
    "    except Exception as e:\n",
    "        except_page.append(page)\n",
    "        print(e, f\"page: {page}\")\n",
    "        time.sleep(30)\n",
    "        continue\n",
    "web.quit()\n",
    "df.to_csv('lichsukien.csv', index=False)\n",
    "if len(except_page) > 0:\n",
    "    pd.DataFrame({'pages': except_page}).to_csv(\"except_page.csv\", index=False)\n",
    "df.head()"
   ]
  },
  {
   "cell_type": "code",
   "execution_count": null,
   "id": "ef5af032-53c7-4010-90dd-2e88a8acaafa",
   "metadata": {},
   "outputs": [],
   "source": []
  }
 ],
 "metadata": {
  "kernelspec": {
   "display_name": "Python 3 (ipykernel)",
   "language": "python",
   "name": "python3"
  },
  "language_info": {
   "codemirror_mode": {
    "name": "ipython",
    "version": 3
   },
   "file_extension": ".py",
   "mimetype": "text/x-python",
   "name": "python",
   "nbconvert_exporter": "python",
   "pygments_lexer": "ipython3",
   "version": "3.10.7"
  }
 },
 "nbformat": 4,
 "nbformat_minor": 5
}
